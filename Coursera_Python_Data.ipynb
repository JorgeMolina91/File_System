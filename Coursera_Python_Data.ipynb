{
  "nbformat": 4,
  "nbformat_minor": 0,
  "metadata": {
    "colab": {
      "provenance": [],
      "authorship_tag": "ABX9TyORqJ0zvVHbSdKWVTqvyo02",
      "include_colab_link": true
    },
    "kernelspec": {
      "name": "python3",
      "display_name": "Python 3"
    },
    "language_info": {
      "name": "python"
    }
  },
  "cells": [
    {
      "cell_type": "markdown",
      "metadata": {
        "id": "view-in-github",
        "colab_type": "text"
      },
      "source": [
        "<a href=\"https://colab.research.google.com/github/JorgeMolina91/File_System/blob/master/Coursera_Python_Data.ipynb\" target=\"_parent\"><img src=\"https://colab.research.google.com/assets/colab-badge.svg\" alt=\"Open In Colab\"/></a>"
      ]
    },
    {
      "cell_type": "markdown",
      "source": [
        "#Python for Data Science\n",
        "\n"
      ],
      "metadata": {
        "id": "yfsswWhMawUn"
      }
    },
    {
      "cell_type": "markdown",
      "source": [
        "##Expressions and Variables"
      ],
      "metadata": {
        "id": "qo8YDycGwJ1l"
      }
    },
    {
      "cell_type": "code",
      "source": [
        "# Check the Python Version\n",
        "import sys\n",
        "print(sys.version)\n",
        "\n",
        "'''\n",
        "The 'sys' is a built-in module that contains many system-specific parameters and functions, including the Python version in use.\n",
        "Before using it, we must explicity 'import' it\n",
        "'''"
      ],
      "metadata": {
        "colab": {
          "base_uri": "https://localhost:8080/",
          "height": 87
        },
        "id": "hPUrebnhwONE",
        "outputId": "9bcd8fc3-e77f-4be5-e73b-dc3a19116024"
      },
      "execution_count": null,
      "outputs": [
        {
          "output_type": "stream",
          "name": "stdout",
          "text": [
            "3.8.16 (default, Dec  7 2022, 01:12:13) \n",
            "[GCC 7.5.0]\n"
          ]
        },
        {
          "output_type": "execute_result",
          "data": {
            "text/plain": [
              "\"\\nThe 'sys' is a built-in module that contains many system-specific parameters and functions, including the Python version in use.\\nBefore using it, we must explicity 'import' it\\n\""
            ],
            "application/vnd.google.colaboratory.intrinsic+json": {
              "type": "string"
            }
          },
          "metadata": {},
          "execution_count": 8
        }
      ]
    },
    {
      "cell_type": "code",
      "source": [
        "# Writing Comments in Python\n",
        "\n",
        "'''\n",
        "The comments will help others to understand what we're trying to accomplish (the reason why we wrote a given snippet of code). \n",
        "Not only does this help other people undesrtand our code, it can also serve as reminder when we come back to it weeks or months later\n",
        "'''\n",
        "\n",
        "# Practice on writing comments\n",
        "\n",
        "print('Hello, Python!') # This line prints a string\n"
      ],
      "metadata": {
        "colab": {
          "base_uri": "https://localhost:8080/"
        },
        "id": "RGT76tXVwP6t",
        "outputId": "d59210b1-e106-428c-e9a4-32d41b9c34b2"
      },
      "execution_count": null,
      "outputs": [
        {
          "output_type": "stream",
          "name": "stdout",
          "text": [
            "Hello, Python!\n"
          ]
        }
      ]
    },
    {
      "cell_type": "code",
      "source": [
        "# Errors in Python\n",
        "\n",
        "'''\n",
        "Python will tell us we have made a mistake by giving us an error message. It's important to read error messages carefully to really understand\n",
        "where we made a mistake and how we may go about correnting it\n",
        "'''\n",
        "\n",
        "# Print string error message\n",
        "frint('Hello, Python!')\n",
        "\n",
        "'''\n",
        "The error message will tell us:\n",
        "  1. Where the error occurred (more useful in large notebook cell or scripts)\n",
        "  2. What kind of error it was (NameError)\n",
        "'''\n"
      ],
      "metadata": {
        "colab": {
          "base_uri": "https://localhost:8080/",
          "height": 235
        },
        "id": "CMLRVFIYwS2a",
        "outputId": "f041d818-21ab-4789-a35e-08bf77190075"
      },
      "execution_count": null,
      "outputs": [
        {
          "output_type": "error",
          "ename": "NameError",
          "evalue": "ignored",
          "traceback": [
            "\u001b[0;31m---------------------------------------------------------------------------\u001b[0m",
            "\u001b[0;31mNameError\u001b[0m                                 Traceback (most recent call last)",
            "\u001b[0;32m<ipython-input-10-192653bfdb9e>\u001b[0m in \u001b[0;36m<module>\u001b[0;34m\u001b[0m\n\u001b[1;32m      7\u001b[0m \u001b[0;34m\u001b[0m\u001b[0m\n\u001b[1;32m      8\u001b[0m \u001b[0;31m# Print string error message\u001b[0m\u001b[0;34m\u001b[0m\u001b[0;34m\u001b[0m\u001b[0;34m\u001b[0m\u001b[0m\n\u001b[0;32m----> 9\u001b[0;31m \u001b[0mfrint\u001b[0m\u001b[0;34m(\u001b[0m\u001b[0;34m'Hello, Python!'\u001b[0m\u001b[0;34m)\u001b[0m\u001b[0;34m\u001b[0m\u001b[0;34m\u001b[0m\u001b[0m\n\u001b[0m\u001b[1;32m     10\u001b[0m \u001b[0;34m\u001b[0m\u001b[0m\n\u001b[1;32m     11\u001b[0m '''\n",
            "\u001b[0;31mNameError\u001b[0m: name 'frint' is not defined"
          ]
        }
      ]
    },
    {
      "cell_type": "code",
      "source": [
        "# Try to see built-in error message\n",
        "\n",
        "print('Hello, Python!)"
      ],
      "metadata": {
        "colab": {
          "base_uri": "https://localhost:8080/",
          "height": 130
        },
        "id": "rf2mAH-twUqM",
        "outputId": "37abaef8-be5d-4d1a-efe7-57893dc9405f"
      },
      "execution_count": null,
      "outputs": [
        {
          "output_type": "error",
          "ename": "SyntaxError",
          "evalue": "ignored",
          "traceback": [
            "\u001b[0;36m  File \u001b[0;32m\"<ipython-input-11-8e307c629865>\"\u001b[0;36m, line \u001b[0;32m3\u001b[0m\n\u001b[0;31m    print('Hello, Python!)\u001b[0m\n\u001b[0m                          ^\u001b[0m\n\u001b[0;31mSyntaxError\u001b[0m\u001b[0;31m:\u001b[0m EOL while scanning string literal\n"
          ]
        }
      ]
    },
    {
      "cell_type": "code",
      "source": [
        "# Does Python know about the error before it runs the code?\n",
        "\n",
        "'''\n",
        "Python it's an 'interpreted language', meaning it will interprets the script line by line as it executes it and it will stops the entire execution\n",
        "when it encounters an error (unless the error is expected and handled by the programmer.)\n",
        "\n",
        "Compiled languages, in the other hand, examine the entire program at compile time, and are able to warn us about a whole class errors prior to execution. \n",
        "'''\n",
        "\n",
        "# Print string and error to see the runiing order\n",
        "print('This will be printed')\n",
        "frint('This will cause an error')\n",
        "print('This will be not printed')"
      ],
      "metadata": {
        "colab": {
          "base_uri": "https://localhost:8080/",
          "height": 235
        },
        "id": "7UjrEGgKwWDM",
        "outputId": "122808bb-e7ed-4687-d211-d9ef1275f761"
      },
      "execution_count": null,
      "outputs": [
        {
          "output_type": "stream",
          "name": "stdout",
          "text": [
            "This will be printed\n"
          ]
        },
        {
          "output_type": "error",
          "ename": "NameError",
          "evalue": "ignored",
          "traceback": [
            "\u001b[0;31m---------------------------------------------------------------------------\u001b[0m",
            "\u001b[0;31mNameError\u001b[0m                                 Traceback (most recent call last)",
            "\u001b[0;32m<ipython-input-12-60f94de79974>\u001b[0m in \u001b[0;36m<module>\u001b[0;34m\u001b[0m\n\u001b[1;32m     10\u001b[0m \u001b[0;31m# Print string and error to see the runiing order\u001b[0m\u001b[0;34m\u001b[0m\u001b[0;34m\u001b[0m\u001b[0;34m\u001b[0m\u001b[0m\n\u001b[1;32m     11\u001b[0m \u001b[0mprint\u001b[0m\u001b[0;34m(\u001b[0m\u001b[0;34m'This will be printed'\u001b[0m\u001b[0;34m)\u001b[0m\u001b[0;34m\u001b[0m\u001b[0;34m\u001b[0m\u001b[0m\n\u001b[0;32m---> 12\u001b[0;31m \u001b[0mfrint\u001b[0m\u001b[0;34m(\u001b[0m\u001b[0;34m'This will cause an error'\u001b[0m\u001b[0;34m)\u001b[0m\u001b[0;34m\u001b[0m\u001b[0;34m\u001b[0m\u001b[0m\n\u001b[0m\u001b[1;32m     13\u001b[0m \u001b[0mprint\u001b[0m\u001b[0;34m(\u001b[0m\u001b[0;34m'This will be not printed'\u001b[0m\u001b[0;34m)\u001b[0m\u001b[0;34m\u001b[0m\u001b[0;34m\u001b[0m\u001b[0m\n",
            "\u001b[0;31mNameError\u001b[0m: name 'frint' is not defined"
          ]
        }
      ]
    },
    {
      "cell_type": "code",
      "source": [
        "#Exercise: Your First Program\n",
        "\n",
        "'''\n",
        "Generations of programmers have started their coding carrers by printing 'Hello, world!'. You will be following in their footsteps.\n",
        "In the code cell below, use the 'print()' function to print out the phrase: 'Hello, world!'\n",
        "'''\n",
        "print('Hello, world')"
      ],
      "metadata": {
        "colab": {
          "base_uri": "https://localhost:8080/"
        },
        "id": "AHu_Li6hwX4N",
        "outputId": "53ea3ac7-d039-4b51-a807-9247a44940df"
      },
      "execution_count": null,
      "outputs": [
        {
          "output_type": "stream",
          "name": "stdout",
          "text": [
            "Hello, world\n"
          ]
        }
      ]
    },
    {
      "cell_type": "code",
      "source": [
        "'''\n",
        "Now, let's enhance your code with a comment. In the code cell below, print out the phrase: 'Hello, world!' and comment it with the phrase: \n",
        "'Print the traditional hello world' all in one line of code\n",
        "'''\n",
        "\n",
        "print('Hello, world!') # Print the traditional hello world\n",
        "\n"
      ],
      "metadata": {
        "colab": {
          "base_uri": "https://localhost:8080/"
        },
        "id": "YYkbBeW1wZhc",
        "outputId": "c4cc9927-dae6-4c6d-d57b-ada4e63c7d18"
      },
      "execution_count": null,
      "outputs": [
        {
          "output_type": "stream",
          "name": "stdout",
          "text": [
            "Hello, world!\n"
          ]
        }
      ]
    },
    {
      "cell_type": "code",
      "source": [
        "#Types of objects in Python \n",
        "\n",
        "'''\n",
        "Python is an object-oriented language. There are many different types of objects in Python.\n",
        "Principle object types: strings, integers and floats. \n",
        "'''\n",
        "\n",
        "#Integer\n",
        "11\n",
        "#Float\n",
        "2.14\n",
        "#String\n",
        "\"Hello, Python 101!\"\n",
        "\n",
        "\n",
        "'''\n",
        "You can get Python to tell you the type of an expression by using the built-in type() function. You'll notice that Python refers to integers as int, floats as float, and character strings as str.\n",
        "'''\n",
        "# Type of 12\n",
        "type(12)\n",
        "# Type of 2.14\n",
        "type(2.14)\n",
        "# Type of \"Hello, Python 101!\"\n",
        "type(\"Hello, Python 101!\")\n"
      ],
      "metadata": {
        "id": "vyO-9nYnwoec"
      },
      "execution_count": null,
      "outputs": []
    },
    {
      "cell_type": "code",
      "source": [
        "# Write your code below. Don't forget to press Shift+Enter to execute the cell\n",
        "\n",
        "type(12.0)"
      ],
      "metadata": {
        "colab": {
          "base_uri": "https://localhost:8080/"
        },
        "id": "FzvuqMxrEt2v",
        "outputId": "7b1a9320-6171-4598-fe87-39f0141ac8e0"
      },
      "execution_count": 24,
      "outputs": [
        {
          "output_type": "execute_result",
          "data": {
            "text/plain": [
              "float"
            ]
          },
          "metadata": {},
          "execution_count": 24
        }
      ]
    },
    {
      "cell_type": "code",
      "source": [
        "# Converting from one object type to a different object type\n",
        "\n",
        "'''\n",
        "We can change the type of object in Python; this is called typecasting. For example, we can convert an integer into a float (e.g. 2 to 2.0)\n",
        "'''\n",
        "\n",
        "type(2) # Integer\n",
        "\n",
        "type(float(2)) # Float\n",
        "\n",
        "type('1') # String\n",
        "\n",
        "type(int(1)) # Integer\n",
        "\n",
        "type('1.2') # String\n",
        "\n",
        "type(float('1.2')) # Float\n",
        "\n",
        "type(' 1 or 2 people')\n",
        "\n",
        "type(int('1 or 2 people')) # ValueError: invalid literal for int() with base 10: '1 or 2 people'\n",
        "\n",
        "\n",
        "type(True) # Boolean\n",
        "type(False) # Boolean\n",
        "\n",
        "type(int(True)) # integer = 1\n",
        "type(int(False)) # integer = 0\n",
        "\n",
        "type(bool(1)) # boolean = 1\n",
        "type(bool(0)) # boolean = 0\n"
      ],
      "metadata": {
        "id": "Pn14yMLzGzkS"
      },
      "execution_count": null,
      "outputs": []
    },
    {
      "cell_type": "code",
      "source": [
        "#Excercise: Types\n",
        "\n",
        "'''\n",
        "What's the type of the result of: 6 / 2?\n",
        "'''\n",
        "\n",
        "result = 6 / 2\n",
        "print(result, type(result))"
      ],
      "metadata": {
        "colab": {
          "base_uri": "https://localhost:8080/"
        },
        "id": "hNFMFm4QI1yJ",
        "outputId": "f8d758b5-4301-4630-9b7f-a779c4eaeced"
      },
      "execution_count": 29,
      "outputs": [
        {
          "output_type": "stream",
          "name": "stdout",
          "text": [
            "3.0 <class 'float'>\n"
          ]
        }
      ]
    },
    {
      "cell_type": "code",
      "source": [
        "'''\n",
        "What's the type of the result of: 6 // 2? (Note the double slash //)\n",
        "'''\n",
        "\n",
        "result = 6 // 2\n",
        "print(result, type(result))"
      ],
      "metadata": {
        "colab": {
          "base_uri": "https://localhost:8080/"
        },
        "id": "iBAz9H-kJUJI",
        "outputId": "6405d246-2d0e-4f72-e889-cb619ebb6be5"
      },
      "execution_count": 30,
      "outputs": [
        {
          "output_type": "stream",
          "name": "stdout",
          "text": [
            "3 <class 'int'>\n"
          ]
        }
      ]
    },
    {
      "cell_type": "code",
      "source": [
        "#Excersice Expression\n",
        "\n",
        "'''\n",
        "Let's write an expression that calculates how many hours there are in 160 minutes:\n",
        "'''\n",
        "\n",
        "total = 160 / 60 \n",
        "print(total)\n"
      ],
      "metadata": {
        "colab": {
          "base_uri": "https://localhost:8080/"
        },
        "id": "iMrj71W7LHqx",
        "outputId": "9440002d-afd0-4bdb-eb13-09f8cdc0df0b"
      },
      "execution_count": 33,
      "outputs": [
        {
          "output_type": "stream",
          "name": "stdout",
          "text": [
            "2.6666666666666665\n"
          ]
        }
      ]
    },
    {
      "cell_type": "code",
      "source": [
        "# Python follows well accepted math conventions when evaluating math expression (PEMDAS)\n",
        "\n",
        "30 + 2 * 60 # 3 + 120 = 150\n",
        "\n",
        "(30 + 2) * 60 # 32 * 60 = 1920\n",
        "\n"
      ],
      "metadata": {
        "id": "S7f1WSjhMGtY"
      },
      "execution_count": null,
      "outputs": []
    },
    {
      "cell_type": "code",
      "source": [
        "#Exercise: Expression and Variables in Python\n",
        "\n",
        "'''\n",
        "What's the value of x where x = 3 + 2 * 2\n",
        "'''\n",
        "\n",
        "x = 3 + 2 * 2\n",
        "x"
      ],
      "metadata": {
        "colab": {
          "base_uri": "https://localhost:8080/"
        },
        "id": "1sP9vueYNrcX",
        "outputId": "ecf52f83-0559-4c20-db36-b8b4d90ead7e"
      },
      "execution_count": 34,
      "outputs": [
        {
          "output_type": "execute_result",
          "data": {
            "text/plain": [
              "7"
            ]
          },
          "metadata": {},
          "execution_count": 34
        }
      ]
    },
    {
      "cell_type": "code",
      "source": [
        "'''\n",
        "What's the value of y where y = (3 + 2) * 2\n",
        "'''\n",
        "\n",
        "y = (3 + 2) * 2\n",
        "y"
      ],
      "metadata": {
        "colab": {
          "base_uri": "https://localhost:8080/"
        },
        "id": "eMtWaPCxOI_-",
        "outputId": "1391ec2a-ce9b-4af9-8bac-7a96a91507b6"
      },
      "execution_count": 35,
      "outputs": [
        {
          "output_type": "execute_result",
          "data": {
            "text/plain": [
              "10"
            ]
          },
          "metadata": {},
          "execution_count": 35
        }
      ]
    },
    {
      "cell_type": "code",
      "source": [
        "'''\n",
        "What's the value of z where z = x + y\n",
        "'''\n",
        "\n",
        "z = x + y\n",
        "z"
      ],
      "metadata": {
        "colab": {
          "base_uri": "https://localhost:8080/"
        },
        "id": "vvREzXyBOVJv",
        "outputId": "2d5f682b-6fd6-45a7-91ad-8d19bebe0640"
      },
      "execution_count": 36,
      "outputs": [
        {
          "output_type": "execute_result",
          "data": {
            "text/plain": [
              "17"
            ]
          },
          "metadata": {},
          "execution_count": 36
        }
      ]
    }
  ]
}